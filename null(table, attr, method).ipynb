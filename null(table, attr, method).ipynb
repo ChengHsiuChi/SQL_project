{
 "cells": [
  {
   "cell_type": "code",
   "execution_count": 2,
   "metadata": {},
   "outputs": [],
   "source": [
    "import pandas as pd\n",
    "import numpy as np"
   ]
  },
  {
   "cell_type": "markdown",
   "metadata": {},
   "source": [
    "### null condition\n",
    "    \"dr\" : \"Delete rows contain null, type=str.\"\n",
    "    \"dc\" : \"Delete columns contain null, type=str.\"\n",
    "    \"rz\" : \"Replace null by zeros, type=str.\"\n",
    "    \"ra\" : \"Replace null by the average of the rest, type=str.\"\n",
    "    \"rm\" : \"Replace null by the mode of the rest, type=str.\"\n",
    "    \"rn\" : \"Replace null by a random number follows the normal distribution, type=str.\"\n",
    "    \"rs\" : \"Replace null by rs, type=str.\"\n",
    "    \"rd\" : \"Replace null by rd, type=number.\""
   ]
  },
  {
   "cell_type": "code",
   "execution_count": 5,
   "metadata": {},
   "outputs": [],
   "source": [
    "def is_null(x):\n",
    "    limit = len(x)\n",
    "    count = 0\n",
    "    null = np.array([])\n",
    "    for i in range(len(x)):\n",
    "        if x.isnull()[i]:\n",
    "            null = np.append(null,i)\n",
    "    return(null)"
   ]
  },
  {
   "cell_type": "code",
   "execution_count": 18,
   "metadata": {},
   "outputs": [],
   "source": [
    "def not_null(x):\n",
    "    limit = len(x)\n",
    "    count = 0\n",
    "    n_null = np.array([])\n",
    "    for i in range(len(x)):\n",
    "        if ~x.isnull()[i]:\n",
    "            n_null = np.append(n_null,i)\n",
    "    return(n_null)"
   ]
  },
  {
   "cell_type": "code",
   "execution_count": 174,
   "metadata": {},
   "outputs": [],
   "source": [
    "def null(table, attr, method):\n",
    "    if method == \"dr\":\n",
    "        null_row = is_null(table[attr])\n",
    "        table = table.drop(null_row)\n",
    "    elif method == \"dc\":\n",
    "        if (table[attr].isnull().sum()>0):\n",
    "            table=table.drop(attr,axis=1)\n",
    "    elif method == \"rz\":\n",
    "        null_row = is_null(table[attr])\n",
    "        table[attr][null_row] = 0\n",
    "    elif method == \"ra\":\n",
    "        null_row = is_null(table[attr])\n",
    "        not_null_row = not_null(table[attr])\n",
    "        rest_mean = table[attr][not_null_row].mean()\n",
    "        table[attr][null_row] = rest_mean\n",
    "    elif method == \"rm\":\n",
    "        mode = table[attr].mode()\n",
    "        null_row = is_null(table[attr])\n",
    "        table[attr][null_row] = mode\n",
    "    elif method == \"rn\":\n",
    "        null_row = is_null(table[attr])\n",
    "        not_null_row = not_null(table[attr])\n",
    "        rest_mean = table[attr][not_null_row].mean()\n",
    "        rest_var = table[attr][not_null_row].var()\n",
    "        if np.isnan(rest_mean):\n",
    "            rest_mean = 0\n",
    "        if np.isnan(rest_var):\n",
    "            rest_var = 1\n",
    "        table[attr][null_row] = np.random.normal(rest_mean,rest_var,size=len(is_null(table[attr])))\n",
    "    elif type(method) == str:\n",
    "        null_row = is_null(table[attr])\n",
    "        table[attr][null_row] = method\n",
    "    else:\n",
    "        null_row = is_null(table[attr])\n",
    "        table[attr][null_row] = method\n",
    "    return table"
   ]
  },
  {
   "cell_type": "code",
   "execution_count": null,
   "metadata": {},
   "outputs": [],
   "source": []
  }
 ],
 "metadata": {
  "kernelspec": {
   "display_name": "Python 3",
   "language": "python",
   "name": "python3"
  },
  "language_info": {
   "codemirror_mode": {
    "name": "ipython",
    "version": 3
   },
   "file_extension": ".py",
   "mimetype": "text/x-python",
   "name": "python",
   "nbconvert_exporter": "python",
   "pygments_lexer": "ipython3",
   "version": "3.7.4"
  }
 },
 "nbformat": 4,
 "nbformat_minor": 2
}
